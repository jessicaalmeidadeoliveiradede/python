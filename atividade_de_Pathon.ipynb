{
  "cells": [
    {
      "cell_type": "markdown",
      "metadata": {
        "id": "view-in-github",
        "colab_type": "text"
      },
      "source": [
        "<a href=\"https://colab.research.google.com/github/jessicaalmeidadeoliveiradede/python/blob/main/atividade_de_Pathon.ipynb\" target=\"_parent\"><img src=\"https://colab.research.google.com/assets/colab-badge.svg\" alt=\"Open In Colab\"/></a>"
      ]
    },
    {
      "cell_type": "markdown",
      "source": [
        "> imposto de reda\n",
        "1.   salario 2,000\n",
        "\n",
        "2. inss   \n",
        "*   12,0000->8%\n",
        "*   18,0000>9%\n",
        " *   conta->18%\n",
        "> IRRF\n",
        "*   12.000->8,00\n",
        "*  18,000->9,00\n",
        "\n",
        "\n",
        "> conta->18,00\n",
        "\n",
        "\n",
        "\n",
        "> resultado do salariio INSS\n",
        "\n",
        "\n",
        "\n",
        "\n",
        "\n",
        "\n",
        "\n",
        "\n",
        "\n",
        "\n",
        "\n",
        "\n",
        "\n",
        "\n"
      ],
      "metadata": {
        "id": "c0pdXE8pL5w0"
      }
    },
    {
      "cell_type": "code",
      "source": [
        "imposto=float(input(\"qual e o seu imposto\"))\n",
        "salario=int(input(\"quanto você ganha \"))\n",
        "inss=int(input(\"quanto você ganha do inss\"))\n",
        "conta=int (input(\"quantos você tem na sua conta\"))\n",
        "resutado=int(input(\"quanto vc ganha do inss\"))\n",
        "\n",
        "imposto=salario+inss\n",
        "conta=resutado\n",
        "print(\"Quanto você ganha de salario junto inss\",salario)"
      ],
      "metadata": {
        "colab": {
          "base_uri": "https://localhost:8080/"
        },
        "id": "RwEzORhMAKGg",
        "outputId": "dca8186a-bb60-4d39-ee62-d25ade4e99ff"
      },
      "execution_count": 8,
      "outputs": [
        {
          "output_type": "stream",
          "name": "stdout",
          "text": [
            "qual e o seu imposto20\n",
            "quanto você ganha  120000\n",
            "quanto você ganha do inss 12\n",
            "quantos você tem na sua conta 18\n",
            "quanto vc ganha do inss 18\n",
            "Quanto você ganha de salario junto inss 120000\n"
          ]
        }
      ]
    }
  ],
  "metadata": {
    "colab": {
      "provenance": [],
      "include_colab_link": true
    },
    "kernelspec": {
      "display_name": "Python 3",
      "name": "python3"
    }
  },
  "nbformat": 4,
  "nbformat_minor": 0
}