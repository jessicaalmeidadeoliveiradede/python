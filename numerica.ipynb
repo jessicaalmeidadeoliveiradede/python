{
  "cells": [
    {
      "cell_type": "markdown",
      "metadata": {
        "id": "view-in-github",
        "colab_type": "text"
      },
      "source": [
        "<a href=\"https://colab.research.google.com/github/jessicaalmeidadeoliveiradede/python/blob/main/C%C3%B3pia_de_Ol%C3%A1%2C_este_%C3%A9_o_Colaboratory.ipynb\" target=\"_parent\"><img src=\"https://colab.research.google.com/assets/colab-badge.svg\" alt=\"Open In Colab\"/></a>"
      ]
    },
    {
      "cell_type": "code",
      "source": [
        "a=int(input(\"digite o valor de a\"))\n",
        "b=int(input(\"digite o valor de b\"))\n",
        "c=int(input(\"digite o valor de c\"))\n",
        "d=int(input(\"digite o valor de d\"))\n",
        "e=int(input(\"digite o valor e\"))\n",
        "\n",
        "a=5\n",
        "c=2\n",
        "\n",
        "c=b+a\n",
        "d=a-a\n",
        "e=b*b\n",
        "\n",
        "print(\"b+a\",c)\n",
        "print(\"b*b\",e)\n",
        "print(\"a-a\",d)\n",
        "print(\"d>e\",d>e)\n",
        "print(\"d<e\",d<e)\n",
        "print(\"d ==(a*b):\",d ==(a*b))\n",
        "print(\"(d-b)!=(c-a)\",(d-b)!=(c-a))\n",
        "print(\"a>=c\",a>=c)\n",
        "print(\"c<=e\",c<=e)"
      ],
      "metadata": {
        "id": "_jIFhKDJndQu",
        "colab": {
          "base_uri": "https://localhost:8080/"
        },
        "outputId": "5708bd5a-d6de-4b2b-8e44-6b113ffc7f7b"
      },
      "execution_count": 2,
      "outputs": [
        {
          "output_type": "stream",
          "name": "stdout",
          "text": [
            "digite o valor de a 30\n",
            "digite o valor de b 4\n",
            "digite o valor de c 5\n",
            "digite o valor de d 6\n",
            "digite o valor e 7\n",
            "b+a 9\n",
            "b*b 16\n",
            "a-a 0\n",
            "d>e False\n",
            "d<e True\n",
            "d ==(a*b): False\n",
            "(d-b)!=(c-a) True\n",
            "a>=c False\n",
            "c<=e True\n"
          ]
        }
      ]
    },
    {
      "cell_type": "code",
      "source": [
        "x=int(input(\"digite o valor de x\"))\n",
        "x=x+x\n",
        "print(\"o valor de do x e\",x)\n",
        "\n",
        "while x>2:\n",
        "  print(x)\n",
        "\n",
        "  x=x/2\n"
      ],
      "metadata": {
        "colab": {
          "base_uri": "https://localhost:8080/"
        },
        "id": "FqVP-z-xqpRJ",
        "outputId": "6927693b-b422-416b-f3ec-031ae6168ed6"
      },
      "execution_count": 3,
      "outputs": [
        {
          "output_type": "stream",
          "name": "stdout",
          "text": [
            "digite o valor de x 64\n",
            "o valor de do x e 128\n",
            "128\n",
            "64.0\n",
            "32.0\n",
            "16.0\n",
            "8.0\n",
            "4.0\n"
          ]
        }
      ]
    }
  ],
  "metadata": {
    "colab": {
      "provenance": [],
      "include_colab_link": true
    },
    "kernelspec": {
      "display_name": "Python 3",
      "name": "python3"
    }
  },
  "nbformat": 4,
  "nbformat_minor": 0
}
