{
  "cells": [
    {
      "cell_type": "markdown",
      "metadata": {
        "id": "view-in-github",
        "colab_type": "text"
      },
      "source": [
        "<a href=\"https://colab.research.google.com/github/jessicaalmeidadeoliveiradede/python/blob/main/terceira_atividade_de_python.ipynb\" target=\"_parent\"><img src=\"https://colab.research.google.com/assets/colab-badge.svg\" alt=\"Open In Colab\"/></a>"
      ]
    },
    {
      "cell_type": "code",
      "source": [
        "nome=str(input(\"digite seu nome \"))\n",
        "print(\"analisando o seu nome...\")\n",
        "print(\"seu nome e maluscula \",nome.upper)\n",
        "print(\"seu nome e minuscula \",nome.lower)\n",
        "print(\"seu nome tem ao todo  letras \",(len(nome)))\n"
      ],
      "metadata": {
        "id": "xOXzzxl65W48",
        "outputId": "59ea1825-ac5d-4de2-cd51-e72f5ef59251",
        "colab": {
          "base_uri": "https://localhost:8080/"
        }
      },
      "execution_count": null,
      "outputs": [
        {
          "output_type": "stream",
          "name": "stdout",
          "text": [
            "digite seu nome Jessica Almeida de Oliveira\n",
            "analisando o seu nome...\n",
            "seu nome e maluscula  <built-in method upper of str object at 0x7f4fd07de030>\n",
            "seu nome e minuscula  <built-in method lower of str object at 0x7f4fd07de030>\n",
            "seu nome tem ao todo  letras  27\n"
          ]
        }
      ]
    }
  ],
  "metadata": {
    "colab": {
      "toc_visible": true,
      "provenance": [],
      "include_colab_link": true
    },
    "kernelspec": {
      "display_name": "Python 3",
      "name": "python3"
    }
  },
  "nbformat": 4,
  "nbformat_minor": 0
}