{
  "nbformat": 4,
  "nbformat_minor": 0,
  "metadata": {
    "colab": {
      "provenance": [],
      "authorship_tag": "ABX9TyOGK8IlAXyfS6eljFcMiLsx",
      "include_colab_link": true
    },
    "kernelspec": {
      "name": "python3",
      "display_name": "Python 3"
    },
    "language_info": {
      "name": "python"
    }
  },
  "cells": [
    {
      "cell_type": "markdown",
      "metadata": {
        "id": "view-in-github",
        "colab_type": "text"
      },
      "source": [
        "<a href=\"https://colab.research.google.com/github/jessicaalmeidadeoliveiradede/python/blob/main/segunda_atividade_de_python.ipynb\" target=\"_parent\"><img src=\"https://colab.research.google.com/assets/colab-badge.svg\" alt=\"Open In Colab\"/></a>"
      ]
    },
    {
      "cell_type": "code",
      "source": [
        "id_cliente=int(input('qual e o ID_cliente'))\n",
        "nome=str (input(\"qual e o nome do cliente\"))\n",
        "data_venci=int(input(\"qual data do vencimento\"))\n",
        "valor=int(input(\"qual e o valor do boleto\"))\n",
        "emael=str(input(\"qual e o seu emaeil\"))\n",
        "s=valor+valor\n",
        "print(\"o boleto sera envido por email\")\n",
        "\n"
      ],
      "metadata": {
        "id": "7aqIPcXMt7Zc",
        "colab": {
          "base_uri": "https://localhost:8080/"
        },
        "outputId": "94359492-fe4b-4ca9-d533-f59a90573322"
      },
      "execution_count": 7,
      "outputs": [
        {
          "output_type": "stream",
          "name": "stdout",
          "text": [
            "qual e o ID_cliente 12\n",
            "qual e o nome do cliente jessica\n",
            "qual data do vencimento 20\n",
            "qual e o valor do boleto 200\n",
            "qual e o seu emaeil nome@gmail.com\n",
            "o boleto sera envido por email\n"
          ]
        }
      ]
    }
  ]
}